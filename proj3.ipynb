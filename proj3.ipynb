{
 "cells": [
  {
   "cell_type": "markdown",
   "metadata": {},
   "source": [
    "# Load Data"
   ]
  },
  {
   "cell_type": "code",
   "execution_count": 1,
   "metadata": {},
   "outputs": [
    {
     "name": "stdout",
     "output_type": "stream",
     "text": [
      "df_movies:\n",
      "   movieId                               title  \\\n",
      "0        1                    Toy Story (1995)   \n",
      "1        2                      Jumanji (1995)   \n",
      "2        3             Grumpier Old Men (1995)   \n",
      "3        4            Waiting to Exhale (1995)   \n",
      "4        5  Father of the Bride Part II (1995)   \n",
      "\n",
      "                                        genres  \n",
      "0  Adventure|Animation|Children|Comedy|Fantasy  \n",
      "1                   Adventure|Children|Fantasy  \n",
      "2                               Comedy|Romance  \n",
      "3                         Comedy|Drama|Romance  \n",
      "4                                       Comedy  \n",
      "\n",
      "df_ratings:\n",
      "   userId  movieId  rating  timestamp\n",
      "0       1        1     4.0  964982703\n",
      "1       1        3     4.0  964981247\n",
      "2       1        6     4.0  964982224\n",
      "3       1       47     5.0  964983815\n",
      "4       1       50     5.0  964982931\n",
      "\n",
      "df_tags:\n",
      "   userId  movieId              tag   timestamp\n",
      "0       2    60756            funny  1445714994\n",
      "1       2    60756  Highly quotable  1445714996\n",
      "2       2    60756     will ferrell  1445714992\n",
      "3       2    89774     Boxing story  1445715207\n",
      "4       2    89774              MMA  1445715200\n"
     ]
    }
   ],
   "source": [
    "import pandas as pd\n",
    "import numpy as np\n",
    "import matplotlib.pyplot as plt\n",
    "import seaborn as sns\n",
    "\n",
    "from sklearn import cluster\n",
    "\n",
    "csvPath = \"data/\"\n",
    "file1 = \"movies.csv\"\n",
    "file2 = \"ratings.csv\"\n",
    "file3 = \"tags.csv\"\n",
    "\n",
    "df_movies  = pd.DataFrame(pd.read_csv(csvPath + file1))\n",
    "df_ratings = pd.DataFrame(pd.read_csv(csvPath + file2))\n",
    "df_tags    = pd.DataFrame(pd.read_csv(csvPath + file3))\n",
    "\n",
    "# visulize raw data\n",
    "print(\"df_movies:\")\n",
    "print(df_movies.head())\n",
    "\n",
    "print(\"\\ndf_ratings:\")\n",
    "print(df_ratings.head())\n",
    "\n",
    "print(\"\\ndf_tags:\")\n",
    "print(df_tags.head())\n"
   ]
  },
  {
   "cell_type": "markdown",
   "metadata": {},
   "source": [
    "# Part A: combining rating and tags to find the relation between rating and tag."
   ]
  },
  {
   "cell_type": "markdown",
   "metadata": {},
   "source": [
    "For example, Horror movie tends to have lower rating compared to other genres, but what about tags? \n",
    "Are there some tags indicate high rating?\n",
    "\n",
    "Note:\n",
    "1) some users tend to give high rating, so standardize the rating."
   ]
  },
  {
   "cell_type": "code",
   "execution_count": 2,
   "metadata": {},
   "outputs": [],
   "source": [
    "# for i in \n",
    "set_user_tags = set(df_tags['userId'])\n",
    "set_user_rate = set(df_ratings['userId'])\n",
    "\n",
    "scale_rate = {} # userID: highest score, lowest score\n",
    "for i in set_user_rate:\n",
    "    scale_rate[i] = [0, 0]\n",
    "    scale_rate[i][0] = df_ratings[df_ratings['userId'] == i]['rating'].max()\n",
    "    scale_rate[i][1] = df_ratings[df_ratings['userId'] == i]['rating'].min()\n",
    "# print(df_ratings[df_ratings['userId'] == 2])\n",
    "# print(scale_rate[2])\n",
    "\n",
    "tag2rate = {} # tag : rate\n",
    "for i in set_user_tags&set_user_rate:          # find the user who rates movie and tags moive\n",
    "    temp_tags = df_tags[df_tags['userId']==i]\n",
    "    temp_rate = df_ratings[df_ratings['userId']==i]\n",
    "    set_movie_tags = set(temp_tags['movieId'])\n",
    "    set_movie_rate = set(temp_rate['movieId'])\n",
    "    for j in set_movie_tags&set_movie_rate:    # find the movie that has both tags and rates\n",
    "        this_rate = temp_rate[temp_rate['movieId'] == j]['rating'].iloc[0]\n",
    "        scaled_rate = (this_rate - scale_rate[i][1]) / (scale_rate[i][0] - scale_rate[i][1])\n",
    "        this_tag = temp_tags[temp_tags['movieId'] == j]['tag']\n",
    "        for k in range(this_tag.shape[0]):\n",
    "            tag = this_tag.iloc[k]\n",
    "            if tag in tag2rate:\n",
    "                tag2rate[tag].append(scaled_rate)\n",
    "            else:\n",
    "                tag2rate[tag] = [scaled_rate]\n"
   ]
  },
  {
   "cell_type": "code",
   "execution_count": 3,
   "metadata": {},
   "outputs": [
    {
     "data": {
      "text/plain": [
       "Text(0, 0.5, 'propotion')"
      ]
     },
     "execution_count": 3,
     "metadata": {},
     "output_type": "execute_result"
    },
    {
     "data": {
      "image/png": "[encoded data removed]",
      "text/plain": [
       "<Figure size 576x576 with 1 Axes>"
      ]
     },
     "metadata": {
      "needs_background": "light"
     },
     "output_type": "display_data"
    }
   ],
   "source": [
    "x_tags = []\n",
    "y_cnt_rate = []\n",
    "for t in tag2rate:\n",
    "    x_tags.append(t)\n",
    "    y_cnt_rate.append(len(tag2rate[t]))\n",
    "\n",
    "plt.figure(figsize=(8, 8))\n",
    "sns.set(font_scale=1.5)\n",
    "sns.distplot(y_cnt_rate)\n",
    "plt.xlabel(\"cnt_rate\")\n",
    "plt.ylabel(\"propotion\")\n"
   ]
  },
  {
   "cell_type": "markdown",
   "metadata": {},
   "source": [
    "From the fig, it's obviouse that most of the tags (moives) will have only 1 rate associated with it, so it will be very likely biased by the user who rate that moive. Let's remove the tags that has less than 10 rate and see the average score of these tags."
   ]
  },
  {
   "cell_type": "code",
   "execution_count": 4,
   "metadata": {},
   "outputs": [
    {
     "data": {
      "text/plain": [
       "[Text(0, 0.5, ''), (0, 5), Text(0.5, 0, 'Average rating')]"
      ]
     },
     "execution_count": 4,
     "metadata": {},
     "output_type": "execute_result"
    },
    {
     "data": {
      "image/png": "[encoded data removed]",
      "text/plain": [
       "<Figure size 576x1080 with 1 Axes>"
      ]
     },
     "metadata": {},
     "output_type": "display_data"
    }
   ],
   "source": [
    "select_tag = []\n",
    "select_rate = []\n",
    "for t in tag2rate:\n",
    "    if len(tag2rate[t]) > 10:\n",
    "        select_tag.append(t)\n",
    "        select_rate.append(np.mean(tag2rate[t])*5)\n",
    "        \n",
    "sns.set(style=\"whitegrid\")\n",
    "f, ax = plt.subplots(figsize=(8, 15))\n",
    "sns.barplot(x=select_rate, y=select_tag)\n",
    "ax.set(xlim=(0, 5), ylabel=\"\",\n",
    "       xlabel=\"Average rating\")"
   ]
  },
  {
   "cell_type": "markdown",
   "metadata": {},
   "source": [
    "The fig shows some interesting finding, for example, imdb top 250 associated with rating nearly 4.5, which is waht we expected. Also, the sci-fi and superhero movies normally have relatively lower ratings. "
   ]
  },
  {
   "cell_type": "markdown",
   "metadata": {},
   "source": [
    "# Part B: recommendation based on clustering"
   ]
  },
  {
   "cell_type": "markdown",
   "metadata": {},
   "source": [
    "Tag seems hard to be used for recommendation, so I am not going to use it.\n",
    "\n",
    "For recommendation, I am going to use K-means, MeanShif, and Birch clustering model, to cluster movies based on the genres of all movies. I am going to use tf-idf first to transfer the text into numbers.\n",
    "\n",
    "For each model, I am going count its accuracy of recommendation per user. For each user, I am going to pick their highly-rated movies and then use the trained model to cluster them, if more than 1 of them belong to the same cluster, I would consider the model succeeds, otherwise fail.\n"
   ]
  },
  {
   "cell_type": "markdown",
   "metadata": {},
   "source": [
    "## Data split"
   ]
  },
  {
   "cell_type": "code",
   "execution_count": 5,
   "metadata": {},
   "outputs": [],
   "source": [
    "from sklearn.feature_extraction.text import TfidfVectorizer\n",
    "import re\n",
    "import string\n",
    "\n",
    "# Preprocessing and tokenizing\n",
    "def preprocessing(line):\n",
    "    line = line.lower()\n",
    "    line = re.sub(r\"[{}]\".format(string.punctuation), \" \", line)\n",
    "    return line\n",
    "\n",
    "all_gener = []\n",
    "for gen in df_movies['genres']:\n",
    "    line = gen.lower()\n",
    "    all_gener.append(line)\n",
    "    \n",
    "tfidf_vectorizer = TfidfVectorizer(preprocessor=preprocessing)\n",
    "tfidf = tfidf_vectorizer.fit_transform(all_gener)\n",
    "    "
   ]
  },
  {
   "cell_type": "code",
   "execution_count": 6,
   "metadata": {},
   "outputs": [],
   "source": [
    "genre_per_user = {}\n",
    "for usr in df_ratings['userId'].unique():\n",
    "    genre_per_user[usr] = []\n",
    "    their_moive = df_ratings[df_ratings['userId'] == usr]\n",
    "    cutoff = their_moive['rating'].max()\n",
    "    prefer = their_moive[their_moive['rating'] >= cutoff]\n",
    "    for moive in prefer['movieId'].unique():\n",
    "        this_gen = df_movies[df_movies['movieId'] == moive]['genres'].iloc[0]\n",
    "        genre_per_user[usr].append(this_gen)\n"
   ]
  },
  {
   "cell_type": "markdown",
   "metadata": {},
   "source": [
    "## Model: K-means"
   ]
  },
  {
   "cell_type": "code",
   "execution_count": 7,
   "metadata": {},
   "outputs": [
    {
     "name": "stdout",
     "output_type": "stream",
     "text": [
      "10-cluster:\n",
      "[ 7  7 43 39 11  0  3 43  4  3 31 38 49  0 47 40 47 47  7 22  2 47 47 47\n",
      " 47 47 47 22 47  3  7  7 33 21  4 21 22 36  4 26 13 49 39 15 36 11  4 21\n",
      " 16 47 22 13 22 10 21 24  7 20 26 39  2  9 12 44 12  7 47 12  4 21 44 12\n",
      " 12 12  9 45 26 17 20 14 39 34 43 20 36  5 36 20 14 36 42 46 47 36 12 15\n",
      " 21 12 39 22 22 22 10 44 22 22 33 47 21 49 26  3 35  7 39 11  3 22  0  4\n",
      "  4 10  4 11]\n",
      "10-cluster:\n",
      "[41 20 73 59 76 21  1 50  2  1 52 31 10 98 36  7 36 92 66 43  0 36 36 36\n",
      " 36 92 36 57 92  1 20 20 89 75  2 14 57 26  2 28 18 10 59 16 26 18 79 14\n",
      " 37 36 57 78 57 88 14 34 94 30 28 82  0 33 45 58 45 20 36 11  2 14 58 45\n",
      " 11 11 33 27 28 60 30  9 82 29 50 30 99 77 26 30  9 99 84 97 36 99 89 16\n",
      " 75 11 82 44 44 44 88 58 44 44 48 36 75 10 28  1 62 94 82 76  1 57 21  2\n",
      "  2 88  2 76]\n"
     ]
    }
   ],
   "source": [
    "from sklearn.cluster import KMeans\n",
    "kmeans_50 = KMeans(n_clusters=50).fit(tfidf)\n",
    "print(\"10-cluster:\")\n",
    "print(kmeans_50.predict(tfidf_vectorizer.transform(genre_per_user[1])))\n",
    "\n",
    "kmeans_100 = KMeans(n_clusters=100).fit(tfidf)\n",
    "print(\"10-cluster:\")\n",
    "print(kmeans_100.predict(tfidf_vectorizer.transform(genre_per_user[1])))\n"
   ]
  },
  {
   "cell_type": "markdown",
   "metadata": {},
   "source": [
    "using the defined measure, K-means with lower clusters will always give 100% accuracy, so it's not a good measure!!!\n",
    "\n",
    "Instead I am going to randomly use the moive with same tag to check the clustering result. I am not going to use all tag, but those with more than 15 moives. And I am only going to show the result with 3 tag, 'sci-fi', 'Disney' and 'twist ending'. 'sci-fi' is supposed to be a easy tag because it's also a genre, 'Disney' is easy too for the majority of Disney are anime or similar. On the other hand, 'twist ending' is tricky because every movie could be tagged as 'twist ending' and no genre seems perfect fit it."
   ]
  },
  {
   "cell_type": "code",
   "execution_count": 8,
   "metadata": {},
   "outputs": [
    {
     "name": "stdout",
     "output_type": "stream",
     "text": [
      "dict_keys(['funny', 'twist ending', 'music', 'sci-fi', 'dark comedy', 'quirky', 'Disney', 'atmospheric', 'superhero', 'visually appealing', 'surreal', 'politics', 'time travel', 'suspense', 'psychology', 'thought-provoking', 'mental illness', 'crime', 'In Netflix queue', 'religion'])\n"
     ]
    }
   ],
   "source": [
    "genre_per_tag = {}\n",
    "\"\"\" movieId              tag\"\"\"\n",
    "cnt = 0\n",
    "for tag in df_tags['tag'].unique():\n",
    "    if df_tags[df_tags['tag'] == tag].shape[0] > 15:\n",
    "        genre_per_tag[tag] = []\n",
    "        this_tag = df_tags[df_tags['tag'] == tag]\n",
    "        for movie in this_tag['movieId'].unique():\n",
    "            this_gen = df_movies[df_movies['movieId'] == movie]['genres'].iloc[0]\n",
    "            genre_per_tag[tag].append(this_gen)\n",
    "print(genre_per_tag.keys())"
   ]
  },
  {
   "cell_type": "code",
   "execution_count": 9,
   "metadata": {},
   "outputs": [
    {
     "name": "stdout",
     "output_type": "stream",
     "text": [
      "50:  [37 36  4 36 36 36 36  4 36 36 37  4 37  4 37  4  4]\n",
      "100: [46 71  2 26 71 26 99  2 26 26 46  2 46  2 46 69 79]\n",
      "50:  [44 47 47 47 47 47 12 31 47 47 47 47 47 47 12 47  9 47 12 12 12 12]\n",
      "100: [58 36 36 36 36 36 45 22 36 36 92 36 36 36 45 36 89 36 45 11 11 11]\n",
      "50:  [ 7  7  7 35 40  7  7  7  7 10  7  7 36 32 40]\n",
      "100: [20 20 41 62  7 41 20 20 94 88 94 20 99 67  7]\n"
     ]
    }
   ],
   "source": [
    "print('50:  ' + str(kmeans_50.predict(tfidf_vectorizer.transform(genre_per_tag['sci-fi']))))\n",
    "print('100: ' + str(kmeans_100.predict(tfidf_vectorizer.transform(genre_per_tag['sci-fi']))))\n",
    "print('50:  ' + str(kmeans_50.predict(tfidf_vectorizer.transform(genre_per_tag['Disney']))))\n",
    "print('100: ' + str(kmeans_100.predict(tfidf_vectorizer.transform(genre_per_tag['Disney']))))\n",
    "print('50:  ' + str(kmeans_50.predict(tfidf_vectorizer.transform(genre_per_tag['twist ending']))))\n",
    "print('100: ' + str(kmeans_100.predict(tfidf_vectorizer.transform(genre_per_tag['twist ending']))))\n"
   ]
  },
  {
   "cell_type": "markdown",
   "metadata": {},
   "source": [
    "GOOD!!! K-means did well on 'sci-fi' and 'Disney', but okay on 'twist ending', as we expected."
   ]
  },
  {
   "cell_type": "markdown",
   "metadata": {},
   "source": [
    "## Model: MeanShift"
   ]
  },
  {
   "cell_type": "code",
   "execution_count": 10,
   "metadata": {},
   "outputs": [
    {
     "data": {
      "text/plain": [
       "MeanShift(bandwidth=0.5, bin_seeding=False, cluster_all=True, min_bin_freq=1,\n",
       "          n_jobs=None, seeds=None)"
      ]
     },
     "execution_count": 10,
     "metadata": {},
     "output_type": "execute_result"
    }
   ],
   "source": [
    "from sklearn.cluster import MeanShift\n",
    "meanshift_6 = MeanShift(bandwidth=.6)\n",
    "meanshift_6.fit(tfidf.toarray())\n",
    "meanshift_5 = MeanShift(bandwidth=.5)\n",
    "meanshift_5.fit(tfidf.toarray())\n"
   ]
  },
  {
   "cell_type": "markdown",
   "metadata": {},
   "source": [
    "The parameter is difficult to reasonale, I trial-error to find that 0.6 and 0.5 might be the most reasonable ones."
   ]
  },
  {
   "cell_type": "code",
   "execution_count": 11,
   "metadata": {},
   "outputs": [
    {
     "name": "stdout",
     "output_type": "stream",
     "text": [
      "0.6: [30 23  3  3 23  3  3  3  3  3 30  3 30  3 30 23  3]\n",
      "0.5: [ 40  38  12   7  38   7   7  12   7   7  40  12  40  12  40 126  12]\n",
      "0.6: [21 39 25 25 39 25 13 18 25 25 25 25 25 25 13 25 13 25 46 13 13 13]\n",
      "0.5: [ 22 106  41  41 106  41  19  21  41  41  62  41  41  41  19  41  47  41\n",
      "  19  19  19  19]\n",
      "0.6: [ 8  8  8  8  5  8  8  8  8 10  8  8  3 27  5]\n",
      "0.5: [17 17 17 25 11 17 17 17 17 16 17 17  7 43 11]\n"
     ]
    }
   ],
   "source": [
    "print(\"0.6: \" + str(meanshift_6.predict(tfidf_vectorizer.transform(genre_per_tag['sci-fi']))))\n",
    "print(\"0.5: \" + str(meanshift_5.predict(tfidf_vectorizer.transform(genre_per_tag['sci-fi']))))\n",
    "print(\"0.6: \" + str(meanshift_6.predict(tfidf_vectorizer.transform(genre_per_tag['Disney']))))\n",
    "print(\"0.5: \" + str(meanshift_5.predict(tfidf_vectorizer.transform(genre_per_tag['Disney']))))\n",
    "print(\"0.6: \" + str(meanshift_6.predict(tfidf_vectorizer.transform(genre_per_tag['twist ending']))))\n",
    "print(\"0.5: \" + str(meanshift_5.predict(tfidf_vectorizer.transform(genre_per_tag['twist ending']))))\n",
    "\n",
    "\n"
   ]
  },
  {
   "cell_type": "markdown",
   "metadata": {},
   "source": [
    "## Model: Birch"
   ]
  },
  {
   "cell_type": "code",
   "execution_count": 12,
   "metadata": {},
   "outputs": [
    {
     "data": {
      "text/plain": [
       "Birch(branching_factor=50, compute_labels=True, copy=True, n_clusters=None,\n",
       "      threshold=0.5)"
      ]
     },
     "execution_count": 12,
     "metadata": {},
     "output_type": "execute_result"
    }
   ],
   "source": [
    "from sklearn.cluster import Birch\n",
    "birch_6 = Birch(branching_factor=50, n_clusters=None, threshold=0.6, compute_labels=True)\n",
    "birch_6.fit(tfidf)\n",
    "\n",
    "birch_5 = Birch(branching_factor=50, n_clusters=None, threshold=0.5, compute_labels=True)\n",
    "birch_5.fit(tfidf)"
   ]
  },
  {
   "cell_type": "code",
   "execution_count": 13,
   "metadata": {},
   "outputs": [
    {
     "name": "stdout",
     "output_type": "stream",
     "text": [
      "0.6: [21 19  6  6 19  6  6  6  6  6 21  6 21  6 21 19  6]\n",
      "0.5: [79 31 48 32 80 12 12 48 12 12 79 48 79 48 79 74 48]\n",
      "0.6: [20 20 20 18 18 18 20  0 18 18 18 18 20 20 20 18 19 18 20 20 20 20]\n",
      "0.5: [67 82 23 78 92 78 67  8 78 78 95 23 23 78 67 78 94 23 86 67 67 67]\n",
      "0.6: [8 8 8 8 5 8 8 8 8 5 8 8 6 6 5]\n",
      "0.5: [40 40 38 42  6 38 40 40 38  1 38 40 12 45  6]\n"
     ]
    }
   ],
   "source": [
    "print(\"0.6: \" + str(birch_6.predict(tfidf_vectorizer.transform(genre_per_tag['sci-fi']))))\n",
    "print(\"0.5: \" + str(birch_5.predict(tfidf_vectorizer.transform(genre_per_tag['sci-fi']))))\n",
    "print(\"0.6: \" + str(birch_6.predict(tfidf_vectorizer.transform(genre_per_tag['Disney']))))\n",
    "print(\"0.5: \" + str(birch_5.predict(tfidf_vectorizer.transform(genre_per_tag['Disney']))))\n",
    "print(\"0.6: \" + str(birch_6.predict(tfidf_vectorizer.transform(genre_per_tag['twist ending']))))\n",
    "print(\"0.5: \" + str(birch_5.predict(tfidf_vectorizer.transform(genre_per_tag['twist ending']))))\n",
    "\n",
    "\n"
   ]
  },
  {
   "cell_type": "markdown",
   "metadata": {},
   "source": [
    "MeanShift and Birch will be able to clustering tag 'twist ending' with proper parameter setting, even the other 2 tags seems fine, such as using threshold=0.6 for birch or bandwidth=0.6 for mean shift.\n",
    "\n",
    "But it took a while to train MeanShift."
   ]
  },
  {
   "cell_type": "code",
   "execution_count": null,
   "metadata": {},
   "outputs": [],
   "source": []
  }
 ],
 "metadata": {
  "kernelspec": {
   "display_name": "Python 3",
   "language": "python",
   "name": "python3"
  },
  "language_info": {
   "codemirror_mode": {
    "name": "ipython",
    "version": 3
   },
   "file_extension": ".py",
   "mimetype": "text/x-python",
   "name": "python",
   "nbconvert_exporter": "python",
   "pygments_lexer": "ipython3",
   "version": "3.7.1"
  }
 },
 "nbformat": 4,
 "nbformat_minor": 2
}
